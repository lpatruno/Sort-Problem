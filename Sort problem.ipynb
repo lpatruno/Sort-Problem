{
 "cells": [
  {
   "cell_type": "code",
   "execution_count": 84,
   "metadata": {
    "collapsed": true
   },
   "outputs": [],
   "source": [
    "from functools import partial"
   ]
  },
  {
   "cell_type": "code",
   "execution_count": 85,
   "metadata": {
    "collapsed": false
   },
   "outputs": [],
   "source": [
    "def test_function(input_str, output):\n",
    "    ''' Function that runs test cases across all the written methods. '''\n",
    "    functions = [mixed_sort_1, mixed_sort_2, mixed_sort_3, mixed_sort_4]\n",
    "    assert all([func(input_str) == output for func in functions])\n",
    "    \n",
    "\n",
    "test_empty_string = partial(test_function, input_str=' ', output='')\n",
    "test_example_1 = partial(test_function, input_str='1', output='1')\n",
    "test_example_2 = partial(test_function, input_str='car truck bus', output='bus car truck')\n",
    "test_example_3 = partial(test_function, input_str='8 4 6 1 -2 9 5', output='-2 1 4 5 6 8 9')\n",
    "test_example_4 = partial(test_function, input_str='car truck 8 4 bus 6 1', output='bus car 1 4 truck 6 8')"
   ]
  },
  {
   "cell_type": "code",
   "execution_count": 83,
   "metadata": {
    "collapsed": false
   },
   "outputs": [],
   "source": [
    "# Run tests\n",
    "test_empty_string()\n",
    "test_example_1()\n",
    "test_example_2()\n",
    "test_example_3()\n",
    "test_example_4()"
   ]
  },
  {
   "cell_type": "code",
   "execution_count": 63,
   "metadata": {
    "collapsed": false
   },
   "outputs": [],
   "source": [
    "def mixed_sort(input_str):\n",
    "    \"\"\"\n",
    "    Calls .lstrip('-').isdigit() three times but uses list comprehensions\n",
    "    \"\"\"\n",
    "    # Strip potential trailing whitespace\n",
    "    input_str = input_str.strip()\n",
    "    \n",
    "    # Return if empty string\n",
    "    if not input_str:\n",
    "        return ''\n",
    "    \n",
    "    # Split string into list\n",
    "    input_list = input_str.split(' ')\n",
    "    \n",
    "    # Reverse sorted lists of ints and strings to act as stack\n",
    "    int_list = sorted([num for num in input_list if num.lstrip('-').isdigit()], reverse=True)\n",
    "    str_list = sorted([word for word in input_list if not word.lstrip('-').isdigit()], reverse=True)\n",
    "    \n",
    "    return ' '.join([int_list.pop() if is_int else str_list.pop()\n",
    "            for is_int in [string.lstrip('-').isdigit() for string in input_list]])"
   ]
  },
  {
   "cell_type": "code",
   "execution_count": 66,
   "metadata": {
    "collapsed": true
   },
   "outputs": [],
   "source": [
    "def mixed_sort_2(input_str):\n",
    "    \"\"\"\n",
    "    Calls .lstrip('-').isdigit() twice for each element in the string.\n",
    "    \"\"\"\n",
    "    # Strip potential trailing whitespace\n",
    "    input_str = input_str.strip()\n",
    "    \n",
    "    # Return if empty string\n",
    "    if not input_str:\n",
    "        return ''\n",
    "    \n",
    "    input_list = input_str.split(' ')\n",
    "    \n",
    "    int_list = []\n",
    "    str_list = []\n",
    "    \n",
    "    for value in input_list:\n",
    "        if value.lstrip('-').isdigit():\n",
    "            int_list.append(value)\n",
    "        else:\n",
    "            str_list.append(value)\n",
    "    \n",
    "    int_list.sort(reverse=True)\n",
    "    str_list.sort(reverse=True)\n",
    "    \n",
    "    return ' '.join([int_list.pop() if is_int else str_list.pop()\n",
    "            for is_int in [string.lstrip('-').isdigit() for string in input_list]])"
   ]
  },
  {
   "cell_type": "code",
   "execution_count": 65,
   "metadata": {
    "collapsed": true
   },
   "outputs": [],
   "source": [
    "def mixed_sort_3(input_str):\n",
    "    \"\"\"\n",
    "    Appends numbers cast to int rather than plain strings but then recasts to string in return statement.\n",
    "    \"\"\"\n",
    "    # Strip potential trailing whitespace\n",
    "    input_str = input_str.strip()\n",
    "    \n",
    "    # Return if empty string\n",
    "    if not input_str:\n",
    "        return ''\n",
    "    \n",
    "    input_list = input_str.split(' ')\n",
    "    \n",
    "    int_list = []\n",
    "    str_list = []\n",
    "    \n",
    "    for value in input_list:\n",
    "        if value.lstrip('-').isdigit():\n",
    "            int_list.append(int(value))\n",
    "        else:\n",
    "            str_list.append(value)\n",
    "    \n",
    "    int_list.sort(reverse=True)\n",
    "    str_list.sort(reverse=True)\n",
    "    \n",
    "    return ' '.join([str(int_list.pop()) if is_int else str_list.pop()\n",
    "            for is_int in [string.lstrip('-').isdigit() for string in input_list]])"
   ]
  },
  {
   "cell_type": "code",
   "execution_count": 1,
   "metadata": {
    "collapsed": true
   },
   "outputs": [],
   "source": [
    "def mixed_sort_4(input_str):\n",
    "    \"\"\"\n",
    "    Calls .lstrip('-').isdigit() once for each element in the string.\n",
    "    \"\"\"\n",
    "    # Strip potential trailing whitespace\n",
    "    input_str = input_str.strip()\n",
    "    \n",
    "    # Return if empty string\n",
    "    if not input_str:\n",
    "        return ''\n",
    "    \n",
    "    input_list = input_str.split(' ')\n",
    "    \n",
    "    int_list = []\n",
    "    str_list = []\n",
    "    is_int_list = []\n",
    "    \n",
    "    for value in input_list:\n",
    "        if value.lstrip('-').isdigit():\n",
    "            int_list.append(value)\n",
    "            is_int_list.append(True)\n",
    "        else:\n",
    "            str_list.append(value)\n",
    "            is_int_list.append(False)\n",
    "    \n",
    "    int_list.sort(reverse=True)\n",
    "    str_list.sort(reverse=True)\n",
    "    \n",
    "    return ' '.join([int_list.pop() if is_int else str_list.pop() for is_int in is_int_list])"
   ]
  },
  {
   "cell_type": "code",
   "execution_count": 93,
   "metadata": {
    "collapsed": false
   },
   "outputs": [
    {
     "name": "stdout",
     "output_type": "stream",
     "text": [
      "Function: mixed_sort_1\n",
      "\tCase: 1\n",
      "\t\t100000 loops, best of 3: 4.74 µs per loop\n",
      "\tCase: car truck bus\n",
      "\t\t100000 loops, best of 3: 6.54 µs per loop\n",
      "\tCase: 8 4 6 1 -2 9 5\n",
      "\t\t100000 loops, best of 3: 10.2 µs per loop\n",
      "\tCase: car truck 8 4 bus 6 1\n",
      "\t\t100000 loops, best of 3: 10.6 µs per loop\n",
      "Function: mixed_sort_2\n",
      "\tCase: 1\n",
      "\t\t100000 loops, best of 3: 3.14 µs per loop\n",
      "\tCase: car truck bus\n",
      "\t\t100000 loops, best of 3: 4.65 µs per loop\n",
      "\tCase: 8 4 6 1 -2 9 5\n",
      "\t\t100000 loops, best of 3: 7.88 µs per loop\n",
      "\tCase: car truck 8 4 bus 6 1\n",
      "\t\t100000 loops, best of 3: 7.84 µs per loop\n",
      "Function: mixed_sort_3\n",
      "\tCase: 1\n",
      "\t\t100000 loops, best of 3: 3.59 µs per loop\n",
      "\tCase: car truck bus\n",
      "\t\t100000 loops, best of 3: 4.69 µs per loop\n",
      "\tCase: 8 4 6 1 -2 9 5\n",
      "\t\t100000 loops, best of 3: 10.1 µs per loop\n",
      "\tCase: car truck 8 4 bus 6 1\n",
      "\t\t100000 loops, best of 3: 9.17 µs per loop\n",
      "Function: mixed_sort_4\n",
      "\tCase: 1\n",
      "\t\t100000 loops, best of 3: 2.88 µs per loop\n",
      "\tCase: car truck bus\n",
      "\t\t100000 loops, best of 3: 3.99 µs per loop\n",
      "\tCase: 8 4 6 1 -2 9 5\n",
      "\t\t100000 loops, best of 3: 6.61 µs per loop\n",
      "\tCase: car truck 8 4 bus 6 1\n",
      "\t\t100000 loops, best of 3: 6.62 µs per loop\n"
     ]
    }
   ],
   "source": [
    "for func in [mixed_sort_1, mixed_sort_2, mixed_sort_3, mixed_sort_4]:\n",
    "    print('Function: {}'.format(func.__name__))\n",
    "    for test_case in ['1', 'car truck bus', '8 4 6 1 -2 9 5', 'car truck 8 4 bus 6 1']:\n",
    "        print('\\tCase: {}'.format(test_case), end='\\n\\t\\t')\n",
    "        %timeit func(test_case)"
   ]
  },
  {
   "cell_type": "code",
   "execution_count": null,
   "metadata": {
    "collapsed": true
   },
   "outputs": [],
   "source": []
  }
 ],
 "metadata": {
  "kernelspec": {
   "display_name": "Python 3",
   "language": "python",
   "name": "python3"
  },
  "language_info": {
   "codemirror_mode": {
    "name": "ipython",
    "version": 3
   },
   "file_extension": ".py",
   "mimetype": "text/x-python",
   "name": "python",
   "nbconvert_exporter": "python",
   "pygments_lexer": "ipython3",
   "version": "3.4.3"
  }
 },
 "nbformat": 4,
 "nbformat_minor": 0
}
